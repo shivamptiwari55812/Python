{
 "cells": [
  {
   "cell_type": "code",
   "execution_count": 1,
   "id": "551e6fb9",
   "metadata": {},
   "outputs": [],
   "source": [
    "import numpy as np \n",
    "import matplotlib.pyplot as plt\n"
   ]
  },
  {
   "cell_type": "code",
   "execution_count": 4,
   "id": "476f99d2",
   "metadata": {},
   "outputs": [
    {
     "name": "stdout",
     "output_type": "stream",
     "text": [
      "[1 2 3 4 5] [[0.75720965 0.56693299 0.7296195 ]\n",
      " [0.41760626 0.91635454 0.09857801]\n",
      " [0.17983686 0.44214889 0.64038108]] [[0. 0. 0. 0.]\n",
      " [0. 0. 0. 0.]\n",
      " [0. 0. 0. 0.]\n",
      " [0. 0. 0. 0.]]\n"
     ]
    }
   ],
   "source": [
    "array1 = np.array([1,2,3,4,5])\n",
    "array2 = np.random.rand(3,3)\n",
    "array3 = np.zeros((4,4))\n",
    "print(array1,array2,array3)"
   ]
  },
  {
   "cell_type": "code",
   "execution_count": 6,
   "id": "4116c8b6",
   "metadata": {},
   "outputs": [],
   "source": [
    "np.save(\"array1.npy\",array1)\n",
    "np.save(\"array2.npy\",array2)\n",
    "np.save(\"array3.npy\",array3)"
   ]
  },
  {
   "cell_type": "code",
   "execution_count": 7,
   "id": "7fc34612",
   "metadata": {},
   "outputs": [
    {
     "name": "stdout",
     "output_type": "stream",
     "text": [
      "[1 2 3 4 5]\n"
     ]
    }
   ],
   "source": [
    "loaded_array1 = np.load(\"array1.npy\")\n",
    "print(loaded_array1)"
   ]
  },
  {
   "cell_type": "code",
   "execution_count": null,
   "id": "568683dd",
   "metadata": {},
   "outputs": [
    {
     "ename": "SyntaxError",
     "evalue": "invalid syntax. Perhaps you forgot a comma? (4036494265.py, line 9)",
     "output_type": "error",
     "traceback": [
      "  \u001b[36mCell\u001b[39m\u001b[36m \u001b[39m\u001b[32mIn[1]\u001b[39m\u001b[32m, line 9\u001b[39m\n\u001b[31m    \u001b[39m\u001b[31mdark_logo = 1 - logo ( inverted the whole color on the wheel)\u001b[39m\n                           ^\n\u001b[31mSyntaxError\u001b[39m\u001b[31m:\u001b[39m invalid syntax. Perhaps you forgot a comma?\n"
     ]
    }
   ],
   "source": [
    "try:\n",
    "    logo = np.load(\"numpy-logo.npy\")\n",
    "    plt.figsize(figsize=(10,6))\n",
    "    plt.subplot(121)\n",
    "    plt.imshow(logo)\n",
    "    plt.title(\"Logo\")\n",
    "    plt.grid(False)\n",
    "\n",
    "    # dark_logo = 1 - logo  inverted the whole color on the wheel\n",
    "\n",
    "    plt.subplot(122)\n",
    "    plt.imshow(dark_logo)\n",
    "    plt.title(\"Dark_Logo\")\n",
    "    plt.gridd(False)\n",
    "\n",
    "\n",
    "except FileNotFoundError:\n",
    "    print(\"Numpy logo doesnt exist\")"
   ]
  },
  {
   "cell_type": "code",
   "execution_count": null,
   "id": "02295665",
   "metadata": {},
   "outputs": [],
   "source": []
  }
 ],
 "metadata": {
  "kernelspec": {
   "display_name": ".venv",
   "language": "python",
   "name": "python3"
  },
  "language_info": {
   "codemirror_mode": {
    "name": "ipython",
    "version": 3
   },
   "file_extension": ".py",
   "mimetype": "text/x-python",
   "name": "python",
   "nbconvert_exporter": "python",
   "pygments_lexer": "ipython3",
   "version": "3.13.0"
  }
 },
 "nbformat": 4,
 "nbformat_minor": 5
}
