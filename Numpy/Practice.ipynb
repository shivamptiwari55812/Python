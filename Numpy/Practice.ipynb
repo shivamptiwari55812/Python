{
 "cells": [
  {
   "cell_type": "markdown",
   "id": "c7f7762e",
   "metadata": {},
   "source": [
    "### Create a 3*3 NumPy array with values from 0 to 8"
   ]
  },
  {
   "cell_type": "code",
   "execution_count": null,
   "id": "93b5efb3",
   "metadata": {},
   "outputs": [
    {
     "name": "stdout",
     "output_type": "stream",
     "text": [
      "[[0 1 2]\n",
      " [3 4 5]\n",
      " [6 7 8]]\n"
     ]
    }
   ],
   "source": [
    "import numpy as np \n",
    "\n",
    "array1 = np.array([[0,1,2],[3,4,5],[6,7,8]])\n",
    "print(array1)\n",
    "\n"
   ]
  },
  {
   "cell_type": "markdown",
   "id": "59d894f2",
   "metadata": {},
   "source": [
    "### create a 5*5 identity matrix"
   ]
  },
  {
   "cell_type": "code",
   "execution_count": 5,
   "id": "9e655442",
   "metadata": {},
   "outputs": [
    {
     "name": "stdout",
     "output_type": "stream",
     "text": [
      "[[1. 0. 0. 0. 0.]\n",
      " [0. 1. 0. 0. 0.]\n",
      " [0. 0. 1. 0. 0.]\n",
      " [0. 0. 0. 1. 0.]\n",
      " [0. 0. 0. 0. 1.]]\n"
     ]
    }
   ],
   "source": [
    "array2 = np.eye(5)\n",
    "print(array2)"
   ]
  },
  {
   "cell_type": "markdown",
   "id": "b1484968",
   "metadata": {},
   "source": [
    "### Create 1D array with 10 elements from 1 to 10 randomly\n",
    "#### np.random.randint(low,high,size)"
   ]
  },
  {
   "cell_type": "code",
   "execution_count": 10,
   "id": "3b9c762b",
   "metadata": {},
   "outputs": [
    {
     "name": "stdout",
     "output_type": "stream",
     "text": [
      "[9 6 7 3 8 6 4 8 3 5]\n"
     ]
    }
   ],
   "source": [
    "array3 = np.random.randint(0,10,10)\n",
    "print(array3)"
   ]
  },
  {
   "cell_type": "markdown",
   "id": "523026ff",
   "metadata": {},
   "source": [
    "### create 1-D array from 1 to 100 and replace all even numbers with \"0\""
   ]
  },
  {
   "cell_type": "code",
   "execution_count": 12,
   "id": "e0978d41",
   "metadata": {},
   "outputs": [
    {
     "name": "stdout",
     "output_type": "stream",
     "text": [
      "[  1   2   3   4   5   6   7   8   9  10  11  12  13  14  15  16  17  18\n",
      "  19  20  21  22  23  24  25  26  27  28  29  30  31  32  33  34  35  36\n",
      "  37  38  39  40  41  42  43  44  45  46  47  48  49  50  51  52  53  54\n",
      "  55  56  57  58  59  60  61  62  63  64  65  66  67  68  69  70  71  72\n",
      "  73  74  75  76  77  78  79  80  81  82  83  84  85  86  87  88  89  90\n",
      "  91  92  93  94  95  96  97  98  99 100]\n"
     ]
    }
   ],
   "source": [
    "arr = np.arange(1,101,1)\n",
    "print(arr)"
   ]
  },
  {
   "cell_type": "code",
   "execution_count": 13,
   "id": "ac56dba0",
   "metadata": {},
   "outputs": [
    {
     "name": "stdout",
     "output_type": "stream",
     "text": [
      "[ 1  0  3  0  5  0  7  0  9  0 11  0 13  0 15  0 17  0 19  0 21  0 23  0\n",
      " 25  0 27  0 29  0 31  0 33  0 35  0 37  0 39  0 41  0 43  0 45  0 47  0\n",
      " 49  0 51  0 53  0 55  0 57  0 59  0 61  0 63  0 65  0 67  0 69  0 71  0\n",
      " 73  0 75  0 77  0 79  0 81  0 83  0 85  0 87  0 89  0 91  0 93  0 95  0\n",
      " 97  0 99  0]\n"
     ]
    }
   ],
   "source": [
    "final = np.where(arr % 2 == 0 , arr==0,arr)\n",
    "print(final)"
   ]
  },
  {
   "cell_type": "markdown",
   "id": "eb740bd1",
   "metadata": {},
   "source": [
    "### Create a 1-D array of 10 numbers and normalize it (vales between 0 and 1)"
   ]
  },
  {
   "cell_type": "code",
   "execution_count": 14,
   "id": "497d6490",
   "metadata": {},
   "outputs": [
    {
     "name": "stdout",
     "output_type": "stream",
     "text": [
      "[ 1  2  3  4  5  6  7  8  9 10]\n"
     ]
    }
   ],
   "source": [
    "arr = np.arange(1,11,1)\n",
    "print(arr)"
   ]
  },
  {
   "cell_type": "code",
   "execution_count": 17,
   "id": "72b883f5",
   "metadata": {},
   "outputs": [
    {
     "name": "stdout",
     "output_type": "stream",
     "text": [
      "[0.         0.11111111 0.22222222 0.33333333 0.44444444 0.55555556\n",
      " 0.66666667 0.77777778 0.88888889 1.        ]\n"
     ]
    }
   ],
   "source": [
    "normalized  = (arr - arr.min())/(arr.max() - arr.min())\n",
    "print(normalized)"
   ]
  },
  {
   "cell_type": "markdown",
   "id": "9b8f93f4",
   "metadata": {},
   "source": [
    "### Create 2 arrays and find their dot products"
   ]
  },
  {
   "cell_type": "code",
   "execution_count": 19,
   "id": "0868daf3",
   "metadata": {},
   "outputs": [
    {
     "name": "stdout",
     "output_type": "stream",
     "text": [
      "38\n"
     ]
    }
   ],
   "source": [
    "arr1 = np.array([1,2,3])\n",
    "arr2 =np.array([5,6,7])\n",
    "\n",
    "print(np.dot(arr1,arr2))"
   ]
  },
  {
   "cell_type": "markdown",
   "id": "1d04a8d7",
   "metadata": {},
   "source": [
    "### Create a 2-D array and find the row with max sum"
   ]
  },
  {
   "cell_type": "code",
   "execution_count": null,
   "id": "6bbc42b0",
   "metadata": {},
   "outputs": [
    {
     "name": "stdout",
     "output_type": "stream",
     "text": [
      "[30 21]\n",
      "[11 14  5]\n",
      "[9 8 6 4 1]\n"
     ]
    }
   ],
   "source": [
    "arr3 = np.array([[11,14,5],[6,7,8]])\n",
    "sum1r = np.sum(arr3 , axis = 1)\n",
    "print(sum1r)\n",
    "maxarg = np.argmax(sum1r)\n",
    "\n",
    "valuemax =arr3[maxarg]\n",
    "print(valuemax)\n",
    "\n",
    "\n",
    "\n"
   ]
  },
  {
   "cell_type": "markdown",
   "id": "a7ec1a2c",
   "metadata": {},
   "source": [
    "### Sort an array in descending order"
   ]
  },
  {
   "cell_type": "code",
   "execution_count": 37,
   "id": "d0295021",
   "metadata": {},
   "outputs": [
    {
     "name": "stdout",
     "output_type": "stream",
     "text": [
      "[9 8 6 4 1]\n"
     ]
    }
   ],
   "source": [
    "array5  =  np.array([1,4,6,8,9])\n",
    "print(np.sort(array5)[::-1])"
   ]
  },
  {
   "cell_type": "markdown",
   "id": "07033090",
   "metadata": {},
   "source": [
    "### Reshape an 1-D array of 16 elements in a 4*4 matrix"
   ]
  },
  {
   "cell_type": "code",
   "execution_count": 41,
   "id": "f942b70e",
   "metadata": {},
   "outputs": [
    {
     "name": "stdout",
     "output_type": "stream",
     "text": [
      "[ 1  2  3  4  5  6  7  8  9 10 11 12 13 14 15 16]\n",
      "[[ 1  2  3  4]\n",
      " [ 5  6  7  8]\n",
      " [ 9 10 11 12]\n",
      " [13 14 15 16]]\n"
     ]
    }
   ],
   "source": [
    "array79 = np.arange(1,17,1)\n",
    "print(array79)\n",
    "reshaping79 = array79.reshape((4,4))\n",
    "print(reshaping79)"
   ]
  },
  {
   "cell_type": "markdown",
   "id": "a74ce46f",
   "metadata": {},
   "source": [
    "### Use np.where to replace all values less than zero with -1 and greater than 0 with +1/1"
   ]
  },
  {
   "cell_type": "code",
   "execution_count": 43,
   "id": "01f74184",
   "metadata": {},
   "outputs": [
    {
     "name": "stdout",
     "output_type": "stream",
     "text": [
      "[ 1 -1  1 -1  1  1 -1]\n"
     ]
    }
   ],
   "source": [
    "arr90 = np.array([56,-4,23,-68,78,56,-2])\n",
    "fixed = np.where(arr90 > 0 , 1 ,-1)\n",
    "print(fixed)"
   ]
  },
  {
   "cell_type": "code",
   "execution_count": null,
   "id": "4f191925",
   "metadata": {},
   "outputs": [],
   "source": []
  }
 ],
 "metadata": {
  "kernelspec": {
   "display_name": "Python 3",
   "language": "python",
   "name": "python3"
  },
  "language_info": {
   "codemirror_mode": {
    "name": "ipython",
    "version": 3
   },
   "file_extension": ".py",
   "mimetype": "text/x-python",
   "name": "python",
   "nbconvert_exporter": "python",
   "pygments_lexer": "ipython3",
   "version": "3.13.0"
  }
 },
 "nbformat": 4,
 "nbformat_minor": 5
}
