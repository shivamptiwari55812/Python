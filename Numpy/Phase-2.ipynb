{
 "cells": [
  {
   "cell_type": "markdown",
   "id": "c3f8db61",
   "metadata": {},
   "source": [
    "## Numpy array operations"
   ]
  },
  {
   "cell_type": "code",
   "execution_count": 2,
   "id": "18d701cb",
   "metadata": {},
   "outputs": [],
   "source": [
    "import numpy as np"
   ]
  },
  {
   "cell_type": "code",
   "execution_count": 10,
   "id": "4dc2279a",
   "metadata": {},
   "outputs": [
    {
     "name": "stdout",
     "output_type": "stream",
     "text": [
      "basic slicing: [1 2 3 4]\n",
      "With Step: [1 3]\n",
      "Negative Indexing: 1\n"
     ]
    }
   ],
   "source": [
    "import numpy as np\n",
    "arr = np.array([1,2,3,4])\n",
    "print(\"basic slicing:\",arr[0:6])\n",
    "print(\"With Step:\",arr[0:4:2])\n",
    "print(\"Negative Indexing:\",arr[-4])\n",
    "\n"
   ]
  },
  {
   "cell_type": "code",
   "execution_count": 14,
   "id": "201d44aa",
   "metadata": {},
   "outputs": [
    {
     "name": "stdout",
     "output_type": "stream",
     "text": [
      "Specific Element: 6\n",
      "Specific Element 3: 3\n",
      "Entire Row: [1 2 3]\n",
      "Entire Column: [3 6 9]\n"
     ]
    }
   ],
   "source": [
    "arr_2d=np.array([[1,2,3],[4,5,6],[7,8,9]]) \n",
    "print(\"Specific Element:\",arr_2d[1,2])  #this indicates ki 1st row ka second element\n",
    "print(\"Specific Element 3:\",arr_2d[0,2])\n",
    "\n",
    "print(\"Entire Row:\",arr_2d[0]) #for Entire row\n",
    "print(\"Entire Column:\",arr_2d[:,2])"
   ]
  },
  {
   "cell_type": "markdown",
   "id": "5112b55b",
   "metadata": {},
   "source": [
    "## Sorting\n"
   ]
  },
  {
   "cell_type": "code",
   "execution_count": 28,
   "id": "43a4a1db",
   "metadata": {},
   "outputs": [
    {
     "name": "stdout",
     "output_type": "stream",
     "text": [
      "Sorted Array: [1 2 3 3 4 6 7 8]\n",
      "Sorted 2d Array: [[1 1]\n",
      " [2 2]\n",
      " [3 3]]\n"
     ]
    }
   ],
   "source": [
    "\n",
    "unsorted = np.array([3,1,4,6,2,3,7,8])\n",
    "print(\"Sorted Array:\",np.sort(unsorted))\n",
    "\n",
    "arr_2d_Unsorted = np.array([[3,1],[1,2],[2,3]])\n",
    "print(\"Sorted 2d Array:\",np.sort(arr_2d_Unsorted,axis=0))"
   ]
  },
  {
   "cell_type": "markdown",
   "id": "c145c90c",
   "metadata": {},
   "source": [
    "## Filtering"
   ]
  },
  {
   "cell_type": "code",
   "execution_count": 43,
   "id": "46df37f5",
   "metadata": {},
   "outputs": [
    {
     "name": "stdout",
     "output_type": "stream",
     "text": [
      "Even Numbers [ 2  4  6  6  8 10]\n"
     ]
    }
   ],
   "source": [
    "numbers = np.array([1,2,3,4,5,6,6,7,8,10])\n",
    "even_numbers = numbers[numbers%2 == 0 ]\n",
    "print(\"Even Numbers\",even_numbers)"
   ]
  },
  {
   "cell_type": "markdown",
   "id": "655eda24",
   "metadata": {},
   "source": [
    "## Filtering with mask"
   ]
  },
  {
   "cell_type": "code",
   "execution_count": 34,
   "id": "32a6df0d",
   "metadata": {},
   "outputs": [
    {
     "name": "stdout",
     "output_type": "stream",
     "text": [
      "Numbers greater than 5  [ 6  6  7  8 10]\n",
      "Printing it with even_numbers: [2 4 6 6]\n"
     ]
    }
   ],
   "source": [
    "mask = numbers > 5\n",
    "print(\"Numbers greater than 5 \", numbers[mask])\n",
    "mask1 = even_numbers < 8\n",
    "print(\"Printing it with even_numbers:\", even_numbers[mask1])"
   ]
  },
  {
   "cell_type": "markdown",
   "id": "c055479e",
   "metadata": {},
   "source": [
    "## Fancing indexing vs np.where()\n"
   ]
  },
  {
   "cell_type": "code",
   "execution_count": 47,
   "id": "6f2cd82e",
   "metadata": {},
   "outputs": [
    {
     "name": "stdout",
     "output_type": "stream",
     "text": [
      "[ 1  3 10]\n",
      "[ 7  8 10]\n"
     ]
    }
   ],
   "source": [
    "indices12 = [ 0 , 2 , 9 ]\n",
    "print(numbers[indices12])\n",
    "\n",
    "where_result = np.where(numbers > 6)\n",
    "print(numbers[where_result])"
   ]
  },
  {
   "cell_type": "code",
   "execution_count": 48,
   "id": "085e53e3",
   "metadata": {},
   "outputs": [
    {
     "name": "stdout",
     "output_type": "stream",
     "text": [
      "[ 1  2  3  4  5  6  6  7 24 30]\n"
     ]
    }
   ],
   "source": [
    "conditions_arr = np.where(numbers > 7 , numbers*3 , numbers)\n",
    "print(conditions_arr)"
   ]
  },
  {
   "cell_type": "code",
   "execution_count": 51,
   "id": "5bfcea46",
   "metadata": {},
   "outputs": [],
   "source": [
    "#understanding where conditions_arr\n",
    "# if(numbers > 7):\n",
    "#     numbers*3\n",
    "# else:\n",
    "#     numbers"
   ]
  },
  {
   "cell_type": "markdown",
   "id": "ff4eafd7",
   "metadata": {},
   "source": [
    "# Adding and Removing DATA"
   ]
  },
  {
   "cell_type": "markdown",
   "id": "e54ec3b0",
   "metadata": {},
   "source": []
  },
  {
   "cell_type": "code",
   "execution_count": 58,
   "id": "8925da7a",
   "metadata": {},
   "outputs": [
    {
     "name": "stdout",
     "output_type": "stream",
     "text": [
      "[1 3 4 2 7 5]\n"
     ]
    }
   ],
   "source": [
    "numArr =np.array([1,3,4])\n",
    "numArr1 =np.array([2,7,5])\n",
    "\n",
    "combinedArr = np.concatenate((numArr,numArr1))\n",
    "print(combinedArr)"
   ]
  },
  {
   "cell_type": "markdown",
   "id": "4579bef8",
   "metadata": {},
   "source": [
    "## Array Compatibilty"
   ]
  },
  {
   "cell_type": "code",
   "execution_count": 59,
   "id": "9a904355",
   "metadata": {},
   "outputs": [
    {
     "name": "stdout",
     "output_type": "stream",
     "text": [
      "Compatibility Shapes: True\n"
     ]
    }
   ],
   "source": [
    "a = np.array([2,3,4])\n",
    "b = np.array([7,5,6])\n",
    "c = np.array([78,9,10])\n",
    "\n",
    "print(\"Compatibility Shapes:\",a.shape == b.shape)"
   ]
  },
  {
   "cell_type": "code",
   "execution_count": 66,
   "id": "efea6330",
   "metadata": {},
   "outputs": [
    {
     "name": "stdout",
     "output_type": "stream",
     "text": [
      "Compatibility Shapes: False\n",
      "[[ 1  2  3]\n",
      " [ 4  5  6]\n",
      " [ 8  9 10]\n",
      " [ 6  7  8]]\n",
      "[[ 1  2  3  2]\n",
      " [ 4  5  6  3]\n",
      " [ 8  9 10  5]]\n"
     ]
    }
   ],
   "source": [
    "orgArr = np.array([[1,2,3],[4,5,6],[8,9,10]])\n",
    "new_row = np.array([[6,7,8]])\n",
    "\n",
    "row_new_done = np.vstack((orgArr , new_row))\n",
    "print(\"Compatibility Shapes:\",orgArr.shape == new_row.shape) \n",
    "print(row_new_done)\n",
    "\n",
    "new_col = np.array([[2],[3],[5]])\n",
    "col_attached_array = np.hstack((orgArr,new_col))\n",
    "print(col_attached_array)"
   ]
  },
  {
   "cell_type": "markdown",
   "id": "28c57ea3",
   "metadata": {},
   "source": [
    "# Delete"
   ]
  },
  {
   "cell_type": "code",
   "execution_count": null,
   "id": "0f34a1ac",
   "metadata": {},
   "outputs": [
    {
     "name": "stdout",
     "output_type": "stream",
     "text": [
      "Array After Deletion: [1 2 5]\n"
     ]
    },
    {
     "ename": "",
     "evalue": "",
     "output_type": "error",
     "traceback": [
      "\u001b[1;31mThe Kernel crashed while executing code in the current cell or a previous cell. \n",
      "\u001b[1;31mPlease review the code in the cell(s) to identify a possible cause of the failure. \n",
      "\u001b[1;31mClick <a href='https://aka.ms/vscodeJupyterKernelCrash'>here</a> for more info. \n",
      "\u001b[1;31mView Jupyter <a href='command:jupyter.viewOutput'>log</a> for further details."
     ]
    }
   ],
   "source": [
    "arr = np.array([1,2,3,5])\n",
    "\n",
    "deleted = np.delete(arr,2)\n",
    "print(\"Array After Deletion:\",deleted)"
   ]
  },
  {
   "cell_type": "code",
   "execution_count": null,
   "id": "98a43618",
   "metadata": {},
   "outputs": [],
   "source": []
  }
 ],
 "metadata": {
  "kernelspec": {
   "display_name": ".venv",
   "language": "python",
   "name": "python3"
  },
  "language_info": {
   "codemirror_mode": {
    "name": "ipython",
    "version": 3
   },
   "file_extension": ".py",
   "mimetype": "text/x-python",
   "name": "python",
   "nbconvert_exporter": "python",
   "pygments_lexer": "ipython3",
   "version": "3.13.0"
  }
 },
 "nbformat": 4,
 "nbformat_minor": 5
}
