{
 "cells": [
  {
   "cell_type": "code",
   "execution_count": null,
   "id": "01e4a8b3",
   "metadata": {},
   "outputs": [],
   "source": [
    "# Main Heading \n",
    "\n",
    "\n"
   ]
  },
  {
   "cell_type": "code",
   "execution_count": 1,
   "id": "57ac1de4",
   "metadata": {},
   "outputs": [
    {
     "name": "stdout",
     "output_type": "stream",
     "text": [
      "Hello\n"
     ]
    }
   ],
   "source": [
    "print(\"Hello\")"
   ]
  },
  {
   "cell_type": "code",
   "execution_count": 3,
   "id": "33fca5ac",
   "metadata": {},
   "outputs": [
    {
     "name": "stdout",
     "output_type": "stream",
     "text": [
      "none\n",
      "30\n"
     ]
    }
   ],
   "source": [
    "print(\"none\")\n",
    "a=10\n",
    "b=20\n",
    "print(a+b)"
   ]
  },
  {
   "cell_type": "code",
   "execution_count": null,
   "id": "9d3f204a",
   "metadata": {},
   "outputs": [],
   "source": []
  },
  {
   "cell_type": "markdown",
   "id": "118d201a",
   "metadata": {},
   "source": [
    "# Creating an array from list"
   ]
  },
  {
   "cell_type": "code",
   "execution_count": 2,
   "id": "b93ee392",
   "metadata": {},
   "outputs": [],
   "source": [
    "import numpy as np"
   ]
  },
  {
   "cell_type": "markdown",
   "id": "f03c7469",
   "metadata": {},
   "source": [
    "## Creating a list from array "
   ]
  },
  {
   "cell_type": "code",
   "execution_count": 4,
   "id": "1bda8e16",
   "metadata": {},
   "outputs": [
    {
     "name": "stdout",
     "output_type": "stream",
     "text": [
      "1D array :  [1 2 3 4 5]\n",
      "2D array : [[1 2 3]\n",
      " [3 4 5]]\n"
     ]
    }
   ],
   "source": [
    "arr_id = np.array([1,2,3,4,5])\n",
    "print(\"1D array : \" ,arr_id)\n",
    "\n",
    "arr_2d = np.array([[1,2,3],[3,4,5]])\n",
    "print(\"2D array :\", arr_2d)"
   ]
  },
  {
   "cell_type": "code",
   "execution_count": null,
   "id": "c23bcc0b",
   "metadata": {},
   "outputs": [],
   "source": []
  },
  {
   "cell_type": "markdown",
   "id": "5b979fb4",
   "metadata": {},
   "source": [
    "# list vs Numpy"
   ]
  },
  {
   "cell_type": "code",
   "execution_count": 5,
   "id": "fb215d93",
   "metadata": {},
   "outputs": [
    {
     "name": "stdout",
     "output_type": "stream",
     "text": [
      "[1, 23, 45, 1, 23, 45]\n"
     ]
    }
   ],
   "source": [
    "py_list = [1,23,45]\n",
    "print(2*py_list)"
   ]
  },
  {
   "cell_type": "code",
   "execution_count": 9,
   "id": "1ec20fe2",
   "metadata": {},
   "outputs": [
    {
     "name": "stdout",
     "output_type": "stream",
     "text": [
      "Here is the list [1, 2, 3, 1, 2, 3]\n"
     ]
    }
   ],
   "source": [
    "py_list = [1,2,3]\n",
    "print(\"Here is the list\" ,py_list * 2)"
   ]
  },
  {
   "cell_type": "code",
   "execution_count": 10,
   "id": "1e71b5c8",
   "metadata": {},
   "outputs": [
    {
     "name": "stdout",
     "output_type": "stream",
     "text": [
      "Python array Multiplication [2 4 6]\n"
     ]
    }
   ],
   "source": [
    "np_array = np.array([1,2,3])\n",
    "print(\"Python array Multiplication\",np_array *2)"
   ]
  },
  {
   "cell_type": "code",
   "execution_count": 19,
   "id": "ea7df473",
   "metadata": {},
   "outputs": [
    {
     "name": "stdout",
     "output_type": "stream",
     "text": [
      "\n",
      " List the operation time  4.929515600204468\n",
      "The time required in Numpy array : 0.00034689903259277344\n"
     ]
    }
   ],
   "source": [
    "import time \n",
    "import numpy as np\n",
    "start = time.time()\n",
    "py_list = [i * 2 for i in range(1,100000000)]\n",
    "print(\"\\n List the operation time \",time.time()-start)\n",
    "\n",
    "start = time.time()\n",
    "array_np = np.arange(100000)*2\n",
    "print(\"The time required in Numpy array :\",time.time()-start)\n"
   ]
  },
  {
   "cell_type": "markdown",
   "id": "9e5ad17a",
   "metadata": {},
   "source": [
    "# Creating array from Scratch"
   ]
  },
  {
   "cell_type": "code",
   "execution_count": null,
   "id": "3be18642",
   "metadata": {},
   "outputs": [
    {
     "name": "stdout",
     "output_type": "stream",
     "text": [
      "Zeros Array :\n",
      " [[0. 0. 0. 0.]\n",
      " [0. 0. 0. 0.]\n",
      " [0. 0. 0. 0.]]\n"
     ]
    }
   ],
   "source": [
    "start = time.time()\n",
    "zeros = np.zeros((3,4))\n",
    "print(\"Zeros Array :\\n\",time.time()-start)"
   ]
  },
  {
   "cell_type": "code",
   "execution_count": 23,
   "id": "21e4e1f0",
   "metadata": {},
   "outputs": [
    {
     "name": "stdout",
     "output_type": "stream",
     "text": [
      "ones matrirces are: [[1. 1. 1.]\n",
      " [1. 1. 1.]]\n"
     ]
    }
   ],
   "source": [
    "ones = np.ones((2,3))\n",
    "print(\"ones matrirces are:\", ones)"
   ]
  },
  {
   "cell_type": "code",
   "execution_count": 24,
   "id": "cd861a69",
   "metadata": {},
   "outputs": [
    {
     "name": "stdout",
     "output_type": "stream",
     "text": [
      "full: [[3 3]\n",
      " [3 3]]\n"
     ]
    }
   ],
   "source": [
    "full = np.full((2,2),3)\n",
    "print(\"full:\",full)"
   ]
  },
  {
   "cell_type": "code",
   "execution_count": 26,
   "id": "bc1e549e",
   "metadata": {},
   "outputs": [
    {
     "name": "stdout",
     "output_type": "stream",
     "text": [
      "Zeros Array :\n",
      " 9.560585021972656e-05\n",
      "Zeros Array :\n",
      " 6.389617919921875e-05\n"
     ]
    }
   ],
   "source": [
    "start = time.time()\n",
    "full = np.full((3,3),0)\n",
    "print(\"Zeros Array :\\n\",time.time()-start)\n",
    "\n",
    "start = time.time()\n",
    "zeros = np.zeros((3,4))\n",
    "print(\"Zeros Array :\\n\",time.time()-start)"
   ]
  },
  {
   "cell_type": "code",
   "execution_count": 31,
   "id": "bb97cba9",
   "metadata": {},
   "outputs": [
    {
     "name": "stdout",
     "output_type": "stream",
     "text": [
      "[[0.5023795  0.54306257 0.84748625]\n",
      " [0.4043316  0.64650534 0.18605352]]\n",
      "[  0  20  40  60  80 100]\n"
     ]
    }
   ],
   "source": [
    "random = np.random.random((2,3))\n",
    "print(random)\n",
    "\n",
    "sequence = np.arange(0,101,20)\n",
    "print(sequence)"
   ]
  },
  {
   "cell_type": "markdown",
   "id": "03ebeb91",
   "metadata": {},
   "source": [
    "# Vector matrix and tensor\n"
   ]
  },
  {
   "cell_type": "code",
   "execution_count": 35,
   "id": "50b0590f",
   "metadata": {},
   "outputs": [
    {
     "name": "stdout",
     "output_type": "stream",
     "text": [
      "This is vector: [4 5 6]\n",
      "This is called as matrices [[2 3 4]\n",
      " [7 8 9]]\n",
      "This is tensor: [[[ 2  3  4]\n",
      "  [23 34 45]]\n",
      "\n",
      " [[ 3  4  9]\n",
      "  [45 46 46]]]\n"
     ]
    }
   ],
   "source": [
    "vector = np.array([4,5,6])\n",
    "print(\"This is vector:\",vector)\n",
    "\n",
    "matrices = np.array([[2,3,4],[7,8,9]])\n",
    "print(\"This is called as matrices\",matrices)\n",
    "\n",
    "tensor = np.array([[[2,3,4],[23,34,45]],[[3,4,9],[45,46,46]]])\n",
    "print(\"This is tensor:\",tensor)"
   ]
  },
  {
   "cell_type": "markdown",
   "id": "66473aa3",
   "metadata": {},
   "source": [
    "# array Properties"
   ]
  },
  {
   "cell_type": "code",
   "execution_count": 38,
   "id": "f6eb4ca8",
   "metadata": {},
   "outputs": [
    {
     "name": "stdout",
     "output_type": "stream",
     "text": [
      "shape of the arrray : (2, 2, 3)\n",
      "Dimension 3\n",
      "Size 12\n",
      "DType <U32\n"
     ]
    }
   ],
   "source": [
    "tensor = np.array([[[2,3,4],[23,34,45]],[[3,\"String\",8.90],[45,46,46]]])\n",
    "print(\"shape of the arrray :\",tensor.shape)\n",
    "print(\"Dimension\",tensor.ndim)\n",
    "print(\"Size\",tensor.size)\n",
    "print(\"DType\",tensor.dtype)"
   ]
  },
  {
   "cell_type": "markdown",
   "id": "6788b622",
   "metadata": {},
   "source": [
    "## Array Reshaping"
   ]
  },
  {
   "cell_type": "code",
   "execution_count": 49,
   "id": "a3e83932",
   "metadata": {},
   "outputs": [
    {
     "name": "stdout",
     "output_type": "stream",
     "text": [
      "[ 1  2  3  4  5  6  7  8  9 10 11 12]\n",
      "[[ 1  2  3  4  5  6]\n",
      " [ 7  8  9 10 11 12]]\n",
      "[ 1  2  3  4  5  6  7  8  9 10 11 12]\n",
      "[ 1  2  3  4  5  6  7  8  9 10 11 12]\n",
      "[ 1  2  3  4  5  6  7  8  9 10 11 12]\n",
      "[[ 1  7]\n",
      " [ 2  8]\n",
      " [ 3  9]\n",
      " [ 4 10]\n",
      " [ 5 11]\n",
      " [ 6 12]]\n"
     ]
    }
   ],
   "source": [
    "arr = np.arange(1,13)\n",
    "print(arr)\n",
    "reshaped = arr.reshape((2,6))\n",
    "print(reshaped)\n",
    "\n",
    "flattend = arr.flatten()\n",
    "print(flattend)\n",
    "\n",
    "\n",
    "raveled = arr.ravel() #ravel returns view instead of copy\n",
    "print(raveled)\n",
    "print(arr)\n",
    "\n",
    "transpose = reshaped.T\n",
    "print(transpose)"
   ]
  },
  {
   "cell_type": "code",
   "execution_count": null,
   "id": "50fddc1c",
   "metadata": {},
   "outputs": [],
   "source": []
  }
 ],
 "metadata": {
  "kernelspec": {
   "display_name": "Python 3",
   "language": "python",
   "name": "python3"
  },
  "language_info": {
   "codemirror_mode": {
    "name": "ipython",
    "version": 3
   },
   "file_extension": ".py",
   "mimetype": "text/x-python",
   "name": "python",
   "nbconvert_exporter": "python",
   "pygments_lexer": "ipython3",
   "version": "3.13.0"
  }
 },
 "nbformat": 4,
 "nbformat_minor": 5
}
